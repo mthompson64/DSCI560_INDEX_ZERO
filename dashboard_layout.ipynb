{
 "cells": [
  {
   "cell_type": "markdown",
   "id": "0cb32176",
   "metadata": {},
   "source": [
    "# Index Zero\n",
    "## Cameron Yap, Emily Christiansen, Madeleine Thompson, Stefan Lin\n",
    "### Dashboard"
   ]
  },
  {
   "cell_type": "code",
   "execution_count": 1,
   "id": "89c4d6f7",
   "metadata": {},
   "outputs": [
    {
     "name": "stderr",
     "output_type": "stream",
     "text": [
      "/var/folders/0x/9qjjcv152vq3193fl4s3nj4r0000gn/T/ipykernel_94981/1432543730.py:2: UserWarning: \n",
      "The dash_html_components package is deprecated. Please replace\n",
      "`import dash_html_components as html` with `from dash import html`\n",
      "  import dash_html_components as html\n",
      "/var/folders/0x/9qjjcv152vq3193fl4s3nj4r0000gn/T/ipykernel_94981/1432543730.py:3: UserWarning: \n",
      "The dash_core_components package is deprecated. Please replace\n",
      "`import dash_core_components as dcc` with `from dash import dcc`\n",
      "  import dash_core_components as dcc\n"
     ]
    }
   ],
   "source": [
    "import dash\n",
    "import dash_html_components as html\n",
    "import dash_core_components as dcc\n",
    "import plotly.graph_objects as go\n",
    "import plotly.express as px"
   ]
  },
  {
   "cell_type": "code",
   "execution_count": null,
   "id": "04eed308",
   "metadata": {},
   "outputs": [],
   "source": []
  }
 ],
 "metadata": {
  "kernelspec": {
   "display_name": "Python 3 (ipykernel)",
   "language": "python",
   "name": "python3"
  },
  "language_info": {
   "codemirror_mode": {
    "name": "ipython",
    "version": 3
   },
   "file_extension": ".py",
   "mimetype": "text/x-python",
   "name": "python",
   "nbconvert_exporter": "python",
   "pygments_lexer": "ipython3",
   "version": "3.8.3"
  }
 },
 "nbformat": 4,
 "nbformat_minor": 5
}
